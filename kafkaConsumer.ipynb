{
 "cells": [
  {
   "cell_type": "code",
   "execution_count": 1,
   "id": "5d5f9101",
   "metadata": {},
   "outputs": [
    {
     "name": "stdout",
     "output_type": "stream",
     "text": [
      "Requirement already satisfied: s3fs in c:\\users\\tarun\\appdata\\local\\programs\\python\\python310\\lib\\site-packages (2023.3.0)\n",
      "Requirement already satisfied: aiobotocore~=2.4.2 in c:\\users\\tarun\\appdata\\local\\programs\\python\\python310\\lib\\site-packages (from s3fs) (2.4.2)\n",
      "Requirement already satisfied: aiohttp!=4.0.0a0,!=4.0.0a1 in c:\\users\\tarun\\appdata\\local\\programs\\python\\python310\\lib\\site-packages (from s3fs) (3.8.4)\n",
      "Requirement already satisfied: fsspec==2023.3.0 in c:\\users\\tarun\\appdata\\local\\programs\\python\\python310\\lib\\site-packages (from s3fs) (2023.3.0)\n",
      "Requirement already satisfied: aioitertools>=0.5.1 in c:\\users\\tarun\\appdata\\local\\programs\\python\\python310\\lib\\site-packages (from aiobotocore~=2.4.2->s3fs) (0.11.0)\n",
      "Requirement already satisfied: botocore<1.27.60,>=1.27.59 in c:\\users\\tarun\\appdata\\local\\programs\\python\\python310\\lib\\site-packages (from aiobotocore~=2.4.2->s3fs) (1.27.59)\n",
      "Requirement already satisfied: wrapt>=1.10.10 in c:\\users\\tarun\\appdata\\local\\programs\\python\\python310\\lib\\site-packages (from aiobotocore~=2.4.2->s3fs) (1.15.0)\n",
      "Requirement already satisfied: multidict<7.0,>=4.5 in c:\\users\\tarun\\appdata\\local\\programs\\python\\python310\\lib\\site-packages (from aiohttp!=4.0.0a0,!=4.0.0a1->s3fs) (6.0.4)\n",
      "Requirement already satisfied: charset-normalizer<4.0,>=2.0 in c:\\users\\tarun\\appdata\\local\\programs\\python\\python310\\lib\\site-packages (from aiohttp!=4.0.0a0,!=4.0.0a1->s3fs) (2.1.1)\n",
      "Requirement already satisfied: yarl<2.0,>=1.0 in c:\\users\\tarun\\appdata\\local\\programs\\python\\python310\\lib\\site-packages (from aiohttp!=4.0.0a0,!=4.0.0a1->s3fs) (1.8.2)\n",
      "Requirement already satisfied: attrs>=17.3.0 in c:\\users\\tarun\\appdata\\local\\programs\\python\\python310\\lib\\site-packages (from aiohttp!=4.0.0a0,!=4.0.0a1->s3fs) (22.1.0)\n",
      "Requirement already satisfied: async-timeout<5.0,>=4.0.0a3 in c:\\users\\tarun\\appdata\\local\\programs\\python\\python310\\lib\\site-packages (from aiohttp!=4.0.0a0,!=4.0.0a1->s3fs) (4.0.2)\n",
      "Requirement already satisfied: aiosignal>=1.1.2 in c:\\users\\tarun\\appdata\\local\\programs\\python\\python310\\lib\\site-packages (from aiohttp!=4.0.0a0,!=4.0.0a1->s3fs) (1.3.1)\n",
      "Requirement already satisfied: frozenlist>=1.1.1 in c:\\users\\tarun\\appdata\\local\\programs\\python\\python310\\lib\\site-packages (from aiohttp!=4.0.0a0,!=4.0.0a1->s3fs) (1.3.3)\n",
      "Requirement already satisfied: urllib3<1.27,>=1.25.4 in c:\\users\\tarun\\appdata\\local\\programs\\python\\python310\\lib\\site-packages (from botocore<1.27.60,>=1.27.59->aiobotocore~=2.4.2->s3fs) (1.26.12)\n",
      "Requirement already satisfied: jmespath<2.0.0,>=0.7.1 in c:\\users\\tarun\\appdata\\local\\programs\\python\\python310\\lib\\site-packages (from botocore<1.27.60,>=1.27.59->aiobotocore~=2.4.2->s3fs) (1.0.1)\n",
      "Requirement already satisfied: python-dateutil<3.0.0,>=2.1 in c:\\users\\tarun\\appdata\\local\\programs\\python\\python310\\lib\\site-packages (from botocore<1.27.60,>=1.27.59->aiobotocore~=2.4.2->s3fs) (2.8.2)\n",
      "Requirement already satisfied: idna>=2.0 in c:\\users\\tarun\\appdata\\local\\programs\\python\\python310\\lib\\site-packages (from yarl<2.0,>=1.0->aiohttp!=4.0.0a0,!=4.0.0a1->s3fs) (3.4)\n",
      "Requirement already satisfied: six>=1.5 in c:\\users\\tarun\\appdata\\local\\programs\\python\\python310\\lib\\site-packages (from python-dateutil<3.0.0,>=2.1->botocore<1.27.60,>=1.27.59->aiobotocore~=2.4.2->s3fs) (1.16.0)\n",
      "Note: you may need to restart the kernel to use updated packages.\n"
     ]
    }
   ],
   "source": [
    "pip install s3fs\n"
   ]
  },
  {
   "cell_type": "code",
   "execution_count": 2,
   "id": "ccd74dd6",
   "metadata": {},
   "outputs": [
    {
     "name": "stdout",
     "output_type": "stream",
     "text": [
      "Requirement already satisfied: pip in c:\\users\\tarun\\appdata\\local\\programs\\python\\python310\\lib\\site-packages (23.0.1)\n",
      "Note: you may need to restart the kernel to use updated packages.\n"
     ]
    }
   ],
   "source": [
    "pip install --upgrade pip\n"
   ]
  },
  {
   "cell_type": "code",
   "execution_count": 3,
   "id": "542e2270",
   "metadata": {},
   "outputs": [],
   "source": [
    "from kafka import KafkaConsumer\n",
    "from time import sleep\n",
    "from json import dumps,loads\n",
    "import json\n",
    "from s3fs import S3FileSystem"
   ]
  },
  {
   "cell_type": "code",
   "execution_count": 5,
   "id": "51dbec0c",
   "metadata": {},
   "outputs": [],
   "source": [
    "consumer = KafkaConsumer(\n",
    "    'demo-topic',\n",
    "     bootstrap_servers=['54.175.143.243:9092'], \n",
    "    value_deserializer=lambda x: loads(x.decode('utf-8')))"
   ]
  },
  {
   "cell_type": "code",
   "execution_count": null,
   "id": "b42fdaea",
   "metadata": {},
   "outputs": [],
   "source": [
    "#for c in consumer:\n",
    "\n",
    "#    print(c.value)"
   ]
  },
  {
   "cell_type": "code",
   "execution_count": null,
   "id": "bdd485a3",
   "metadata": {
    "scrolled": true
   },
   "outputs": [],
   "source": []
  },
  {
   "cell_type": "code",
   "execution_count": 6,
   "id": "95676710",
   "metadata": {},
   "outputs": [],
   "source": [
    "s3=S3FileSystem()"
   ]
  },
  {
   "cell_type": "code",
   "execution_count": null,
   "id": "df04f16b",
   "metadata": {},
   "outputs": [],
   "source": [
    "# for each and every different row we need to create a file and store it on the S3 bucket \n",
    "# but we need to assign a new unique number to each and every file and then store it \n",
    "\n",
    "for count , i in enumerate(consumer):\n",
    "    with s3.open(\"s3://kafka-stock-market-project-tarun/stock_market_{}.json\".format(count), 'w') as file:\n",
    "        json.dump(i.value, file)\n",
    "    #print(count)\n",
    "    #print(i,value)\n"
   ]
  },
  {
   "cell_type": "code",
   "execution_count": null,
   "id": "36d95055",
   "metadata": {},
   "outputs": [],
   "source": []
  }
 ],
 "metadata": {
  "kernelspec": {
   "display_name": "Python 3 (ipykernel)",
   "language": "python",
   "name": "python3"
  },
  "language_info": {
   "codemirror_mode": {
    "name": "ipython",
    "version": 3
   },
   "file_extension": ".py",
   "mimetype": "text/x-python",
   "name": "python",
   "nbconvert_exporter": "python",
   "pygments_lexer": "ipython3",
   "version": "3.10.7"
  }
 },
 "nbformat": 4,
 "nbformat_minor": 5
}
